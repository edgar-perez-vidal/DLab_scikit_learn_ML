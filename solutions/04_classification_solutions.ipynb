{
 "cells": [
  {
   "cell_type": "markdown",
   "id": "599e3581",
   "metadata": {},
   "source": [
    "## Challenge 1: Model Evaluation\n",
    "\n",
    "1). What are the TP, FP, TN, FN in these model results?\n",
    "\n",
    "- TP: 26\n",
    "- FP: 3\n",
    "- TN: 34\n",
    "- FN: 4\n",
    "\n",
    "\n",
    "2). What is the precision and recall for this model?\n",
    "\n",
    "**precision**: 26 / 29 = .896\n",
    "**recall**: 26 / 30 =  .8666\n",
    "\n",
    "3). Which is more important, precision or recall?\n",
    "\n",
    "**solution:** it depends on the model and this problem"
   ]
  },
  {
   "cell_type": "markdown",
   "id": "824b97aa",
   "metadata": {},
   "source": [
    "## Challenge 2: Classification with SVM\n",
    "\n",
    "Now let's try another new model. The [Support Vector Machine](https://scikit-learn.org/stable/modules/svm.html#classification) is another class of machine learning algorithm that is used for classification. \n",
    "\n",
    "Choose two features of the data set to train your model on. Then, using the documentation for the support vector machine, follow the steps to:\n",
    "- Initialize the model\n",
    "- Fit it to the training data\n",
    "- Evaluate the model on both the training and testing data\n",
    "\n",
    "Is your model underfit? Is it overfit? \n",
    "\n",
    "How does SVM fit in with the **linearly separable** problem identified in the scatter plots above?"
   ]
  },
  {
   "cell_type": "code",
   "execution_count": 3,
   "id": "6ac4d9a3",
   "metadata": {},
   "outputs": [
    {
     "ename": "NameError",
     "evalue": "name 'X_train' is not defined",
     "output_type": "error",
     "traceback": [
      "\u001b[1;31m---------------------------------------------------------------------------\u001b[0m",
      "\u001b[1;31mNameError\u001b[0m                                 Traceback (most recent call last)",
      "Input \u001b[1;32mIn [3]\u001b[0m, in \u001b[0;36m<cell line: 3>\u001b[1;34m()\u001b[0m\n\u001b[0;32m      1\u001b[0m \u001b[38;5;66;03m## YOUR CODE HERE\u001b[39;00m\n\u001b[0;32m      2\u001b[0m \u001b[38;5;28;01mfrom\u001b[39;00m \u001b[38;5;21;01msklearn\u001b[39;00m\u001b[38;5;21;01m.\u001b[39;00m\u001b[38;5;21;01msvm\u001b[39;00m \u001b[38;5;28;01mimport\u001b[39;00m SVC\n\u001b[1;32m----> 3\u001b[0m X_train_subset \u001b[38;5;241m=\u001b[39m \u001b[43mX_train\u001b[49m[[\u001b[38;5;124m'\u001b[39m\u001b[38;5;124mbody_mass_g\u001b[39m\u001b[38;5;124m'\u001b[39m,\u001b[38;5;124m'\u001b[39m\u001b[38;5;124mculmen_depth_mm\u001b[39m\u001b[38;5;124m'\u001b[39m]]\n\u001b[0;32m      4\u001b[0m X_test_subset \u001b[38;5;241m=\u001b[39m X_test[[\u001b[38;5;124m'\u001b[39m\u001b[38;5;124mbody_mass_g\u001b[39m\u001b[38;5;124m'\u001b[39m,\u001b[38;5;124m'\u001b[39m\u001b[38;5;124mculmen_depth_mm\u001b[39m\u001b[38;5;124m'\u001b[39m]]\n\u001b[0;32m      5\u001b[0m y_train_subset \u001b[38;5;241m=\u001b[39m y_train[\u001b[38;5;124m'\u001b[39m\u001b[38;5;124mspecies\u001b[39m\u001b[38;5;124m'\u001b[39m]\n",
      "\u001b[1;31mNameError\u001b[0m: name 'X_train' is not defined"
     ]
    }
   ],
   "source": [
    "## YOUR CODE HERE\n",
    "from sklearn.svm import SVC\n",
    "X_train_subset = X_train[['body_mass_g','culmen_depth_mm']]\n",
    "X_test_subset = X_test[['body_mass_g','culmen_depth_mm']]\n",
    "y_train_subset = y_train['species']\n",
    "y_test_subset = y_test['species']\n",
    "\n",
    "##1) Initialize SVM\n",
    "model = SVC()\n",
    "\n",
    "##2) Train SVM on Training data \n",
    "model.fit(X_train_subset,y_train_subset)\n",
    "##3) Evaluate SVM on Training and Test Data\n",
    "model.score(X_train_subset,y_train_subset)\n",
    "model.score(X_test_subset,y_test_subset)"
   ]
  },
  {
   "cell_type": "code",
   "execution_count": null,
   "id": "a031ab81",
   "metadata": {},
   "outputs": [],
   "source": []
  }
 ],
 "metadata": {
  "kernelspec": {
   "display_name": "Python 3 (ipykernel)",
   "language": "python",
   "name": "python3"
  },
  "language_info": {
   "codemirror_mode": {
    "name": "ipython",
    "version": 3
   },
   "file_extension": ".py",
   "mimetype": "text/x-python",
   "name": "python",
   "nbconvert_exporter": "python",
   "pygments_lexer": "ipython3",
   "version": "3.9.12"
  }
 },
 "nbformat": 4,
 "nbformat_minor": 5
}
